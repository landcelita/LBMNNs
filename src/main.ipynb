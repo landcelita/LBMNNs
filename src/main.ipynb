{
 "cells": [
  {
   "cell_type": "code",
   "execution_count": 3,
   "metadata": {},
   "outputs": [],
   "source": [
    "import numpy as np\n",
    "import tensorflow as tf\n",
    "from tensorflow import keras"
   ]
  },
  {
   "cell_type": "code",
   "execution_count": 5,
   "metadata": {},
   "outputs": [],
   "source": [
    "class InputField:\n",
    "    def __init__(self, row: int, col: int, **kwargs):\n",
    "        super(InputField, self).__init__(**kwargs)\n",
    "        self.row = row\n",
    "        self.col = col\n",
    "        self.f = np.ndarray((3, 3, row, col))\n",
    "    \n",
    "    def set(self, u_vert: np.ndarray(dtype=np.float64), u_hori: np.ndarray(dtype=np.float64), rho: np.ndarray(dtype=np.float64)):\n",
    "        if (self.row, self.col) != u_vert.shape or (self, self.col) != u_hori.shape or (self.row, self.col) != rho.shape:\n",
    "            raise ValueError(\"arg size error\")\n",
    "        self.u_vert = u_vert.view()\n",
    "        self.u_hori = u_hori.view()\n",
    "        self.rho = rho.view()\n",
    "        self.u_vert.flags.writeable = False\n",
    "        self.u_hori.flags.writeable = False\n",
    "        self.rho.flags.writeable = False\n",
    "        self.u2 = self.u_vert * self.u_vert + self.u_hori * self.u_hori\n",
    "        for dr in range(-1, 2):"
   ]
  },
  {
   "cell_type": "code",
   "execution_count": null,
   "metadata": {},
   "outputs": [],
   "source": [
    "class InputField(keras.layers.Layer):\n",
    "    def __init__(self, row: int, col: int, **kwargs):\n",
    "        super\n",
    "        self.row = row\n",
    "        self.col = col\n",
    "        super(InputField, self).__init__(**kwargs)\n",
    "        \n",
    "    def build(self):\n",
    "        w_init = tf.constant_initializer(2.0)\n",
    "        self.w = tf.Variable(\n",
    "            initial_value=w_init(shape=(input_shape[0] + 1), dtype=\"float32\"),\n",
    "            trainable=False,\n",
    "        )\n",
    "        b_init = tf.constant_initializer(10.0)\n",
    "        self.b = tf.Variable(\n",
    "            initial_value=b_init(shape=(input_shape[0] + 1,), dtype=\"float32\"), trainable=True\n",
    "        )\n",
    "        self.built = True\n",
    "\n",
    "    def call(self, inputs):\n",
    "        return inputs * self.w[0:self.shape[0]] + self.b[0:self.shape[0]]"
   ]
  },
  {
   "cell_type": "code",
   "execution_count": 11,
   "metadata": {},
   "outputs": [
    {
     "ename": "ValueError",
     "evalue": "assignment destination is read-only",
     "output_type": "error",
     "traceback": [
      "\u001b[0;31m---------------------------------------------------------------------------\u001b[0m",
      "\u001b[0;31mValueError\u001b[0m                                Traceback (most recent call last)",
      "Cell \u001b[0;32mIn[11], line 8\u001b[0m\n\u001b[1;32m      6\u001b[0m instance\u001b[39m.\u001b[39mset(u_vert, u_hori, rho)\n\u001b[1;32m      7\u001b[0m u_vert[\u001b[39m0\u001b[39m, \u001b[39m0\u001b[39m] \u001b[39m=\u001b[39m \u001b[39m10\u001b[39m\n\u001b[0;32m----> 8\u001b[0m instance\u001b[39m.\u001b[39;49mu_vert[\u001b[39m0\u001b[39;49m, \u001b[39m0\u001b[39;49m] \u001b[39m=\u001b[39m \u001b[39m3\u001b[39m\n\u001b[1;32m      9\u001b[0m \u001b[39mprint\u001b[39m(instance\u001b[39m.\u001b[39mu_vert)\n",
      "\u001b[0;31mValueError\u001b[0m: assignment destination is read-only"
     ]
    }
   ],
   "source": [
    "# test\n",
    "instance = InputField(1, 2)\n",
    "u_vert = np.array([[2, 3]])\n",
    "u_hori = np.array([[1, 4]])\n",
    "rho = np.array([[6, 5]])\n",
    "instance.set(u_vert, u_hori, rho)\n",
    "u_vert[0, 0] = 10\n",
    "print(instance.u_vert)\n"
   ]
  },
  {
   "cell_type": "code",
   "execution_count": 13,
   "metadata": {},
   "outputs": [
    {
     "name": "stdout",
     "output_type": "stream",
     "text": [
      "float64\n"
     ]
    }
   ],
   "source": [
    "a = np.array([1.3, 1.4])\n",
    "print(a.dtype)"
   ]
  }
 ],
 "metadata": {
  "kernelspec": {
   "display_name": "Python 3.8.10 ('.venv': venv)",
   "language": "python",
   "name": "python3"
  },
  "language_info": {
   "codemirror_mode": {
    "name": "ipython",
    "version": 3
   },
   "file_extension": ".py",
   "mimetype": "text/x-python",
   "name": "python",
   "nbconvert_exporter": "python",
   "pygments_lexer": "ipython3",
   "version": "3.8.10 (default, Jun 22 2022, 20:18:18) \n[GCC 9.4.0]"
  },
  "orig_nbformat": 4,
  "vscode": {
   "interpreter": {
    "hash": "8cc852ad98fd153e44a223758c85fc1b400de02ae4f1d397854b0c01b67255b7"
   }
  }
 },
 "nbformat": 4,
 "nbformat_minor": 2
}
